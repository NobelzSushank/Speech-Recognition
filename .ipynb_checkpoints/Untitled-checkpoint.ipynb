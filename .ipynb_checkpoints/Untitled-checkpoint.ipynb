{
 "cells": [
  {
   "cell_type": "code",
   "execution_count": 1,
   "id": "0b4dbb4c-bcf4-46c4-b224-f2097682a189",
   "metadata": {},
   "outputs": [
    {
     "name": "stdout",
     "output_type": "stream",
     "text": [
      "Requirement already satisfied: kaggle in /home/sushank/.local/lib/python3.8/site-packages (1.6.17)\n",
      "Requirement already satisfied: six>=1.10 in /usr/lib/python3/dist-packages (from kaggle) (1.14.0)\n",
      "Requirement already satisfied: bleach in /home/sushank/.local/lib/python3.8/site-packages (from kaggle) (6.1.0)\n",
      "Requirement already satisfied: certifi>=2023.7.22 in /home/sushank/.local/lib/python3.8/site-packages (from kaggle) (2024.8.30)\n",
      "Requirement already satisfied: python-dateutil in /home/sushank/.local/lib/python3.8/site-packages (from kaggle) (2.9.0.post0)\n",
      "Requirement already satisfied: urllib3 in /home/sushank/.local/lib/python3.8/site-packages (from kaggle) (2.2.3)\n",
      "Requirement already satisfied: python-slugify in /home/sushank/.local/lib/python3.8/site-packages (from kaggle) (8.0.4)\n",
      "Requirement already satisfied: requests in /home/sushank/.local/lib/python3.8/site-packages (from kaggle) (2.32.3)\n",
      "Requirement already satisfied: tqdm in /home/sushank/.local/lib/python3.8/site-packages (from kaggle) (4.66.5)\n",
      "Requirement already satisfied: webencodings in /home/sushank/.local/lib/python3.8/site-packages (from bleach->kaggle) (0.5.1)\n",
      "Requirement already satisfied: text-unidecode>=1.3 in /home/sushank/.local/lib/python3.8/site-packages (from python-slugify->kaggle) (1.3)\n",
      "Requirement already satisfied: idna<4,>=2.5 in /home/sushank/.local/lib/python3.8/site-packages (from requests->kaggle) (3.10)\n",
      "Requirement already satisfied: charset-normalizer<4,>=2 in /home/sushank/.local/lib/python3.8/site-packages (from requests->kaggle) (3.4.0)\n"
     ]
    }
   ],
   "source": [
    "! pip install kaggle"
   ]
  },
  {
   "cell_type": "code",
   "execution_count": 3,
   "id": "164e9f7f-f760-4885-a849-e39fa915613c",
   "metadata": {},
   "outputs": [],
   "source": [
    "# Configuring the path of Kaggler.json file\n",
    "!mkdir -p ~/.kaggle\n",
    "!cp kaggle.json ~/.kaggle/\n",
    "!chmod 600 ~/.kaggle/kaggle.json"
   ]
  },
  {
   "cell_type": "code",
   "execution_count": 1,
   "id": "acea9ecb-74cf-47c6-8658-e380c737953a",
   "metadata": {},
   "outputs": [
    {
     "name": "stdout",
     "output_type": "stream",
     "text": [
      "Traceback (most recent call last):\n",
      "  File \"/home/sushank/.local/bin/kaggle\", line 5, in <module>\n",
      "    from kaggle.cli import main\n",
      "  File \"/home/sushank/.local/lib/python3.8/site-packages/kaggle/__init__.py\", line 7, in <module>\n",
      "    api.authenticate()\n",
      "  File \"/home/sushank/.local/lib/python3.8/site-packages/kaggle/api/kaggle_api_extended.py\", line 414, in authenticate\n",
      "    self._load_config(config_data)\n",
      "  File \"/home/sushank/.local/lib/python3.8/site-packages/kaggle/api/kaggle_api_extended.py\", line 465, in _load_config\n",
      "    raise ValueError('Error: Missing %s in configuration.' % item)\n",
      "ValueError: Error: Missing username in configuration.\n"
     ]
    }
   ],
   "source": [
    "# API to fetch the dataset form kaggle\n",
    "!kaggle datasets download -c tensorflow-speech-recognition-challenge"
   ]
  },
  {
   "cell_type": "code",
   "execution_count": 2,
   "id": "22a90911-bece-466e-93dc-92f877eb3142",
   "metadata": {},
   "outputs": [
    {
     "name": "stdout",
     "output_type": "stream",
     "text": [
      "Requirement already satisfied: librosa in /home/sushank/.local/lib/python3.8/site-packages (0.10.2.post1)\n",
      "Requirement already satisfied: numpy!=1.22.0,!=1.22.1,!=1.22.2,>=1.20.3 in /home/sushank/.local/lib/python3.8/site-packages (from librosa) (1.24.3)\n",
      "Requirement already satisfied: scikit-learn>=0.20.0 in /home/sushank/.local/lib/python3.8/site-packages (from librosa) (1.3.2)\n",
      "Requirement already satisfied: decorator>=4.3.0 in /home/sushank/.local/lib/python3.8/site-packages (from librosa) (5.1.1)\n",
      "Requirement already satisfied: soundfile>=0.12.1 in /home/sushank/.local/lib/python3.8/site-packages (from librosa) (0.12.1)\n",
      "Requirement already satisfied: msgpack>=1.0 in /home/sushank/.local/lib/python3.8/site-packages (from librosa) (1.1.0)\n",
      "Requirement already satisfied: audioread>=2.1.9 in /home/sushank/.local/lib/python3.8/site-packages (from librosa) (3.0.1)\n",
      "Requirement already satisfied: scipy>=1.2.0 in /home/sushank/.local/lib/python3.8/site-packages (from librosa) (1.10.1)\n",
      "Requirement already satisfied: pooch>=1.1 in /home/sushank/.local/lib/python3.8/site-packages (from librosa) (1.8.2)\n",
      "Requirement already satisfied: numba>=0.51.0 in /home/sushank/.local/lib/python3.8/site-packages (from librosa) (0.58.1)\n",
      "Requirement already satisfied: joblib>=0.14 in /home/sushank/.local/lib/python3.8/site-packages (from librosa) (1.4.2)\n",
      "Requirement already satisfied: soxr>=0.3.2 in /home/sushank/.local/lib/python3.8/site-packages (from librosa) (0.3.7)\n",
      "Requirement already satisfied: typing-extensions>=4.1.1 in /home/sushank/.local/lib/python3.8/site-packages (from librosa) (4.5.0)\n",
      "Requirement already satisfied: lazy-loader>=0.1 in /home/sushank/.local/lib/python3.8/site-packages (from librosa) (0.4)\n",
      "Requirement already satisfied: threadpoolctl>=2.0.0 in /home/sushank/.local/lib/python3.8/site-packages (from scikit-learn>=0.20.0->librosa) (3.5.0)\n",
      "Requirement already satisfied: cffi>=1.0 in /home/sushank/.local/lib/python3.8/site-packages (from soundfile>=0.12.1->librosa) (1.17.1)\n",
      "Requirement already satisfied: packaging>=20.0 in /home/sushank/.local/lib/python3.8/site-packages (from pooch>=1.1->librosa) (24.1)\n",
      "Requirement already satisfied: platformdirs>=2.5.0 in /home/sushank/.local/lib/python3.8/site-packages (from pooch>=1.1->librosa) (4.3.6)\n",
      "Requirement already satisfied: requests>=2.19.0 in /home/sushank/.local/lib/python3.8/site-packages (from pooch>=1.1->librosa) (2.32.3)\n",
      "Requirement already satisfied: llvmlite<0.42,>=0.41.0dev0 in /home/sushank/.local/lib/python3.8/site-packages (from numba>=0.51.0->librosa) (0.41.1)\n",
      "Requirement already satisfied: importlib-metadata; python_version < \"3.9\" in /home/sushank/.local/lib/python3.8/site-packages (from numba>=0.51.0->librosa) (8.5.0)\n",
      "Requirement already satisfied: pycparser in /home/sushank/.local/lib/python3.8/site-packages (from cffi>=1.0->soundfile>=0.12.1->librosa) (2.22)\n",
      "Requirement already satisfied: certifi>=2017.4.17 in /home/sushank/.local/lib/python3.8/site-packages (from requests>=2.19.0->pooch>=1.1->librosa) (2024.8.30)\n",
      "Requirement already satisfied: urllib3<3,>=1.21.1 in /home/sushank/.local/lib/python3.8/site-packages (from requests>=2.19.0->pooch>=1.1->librosa) (2.2.3)\n",
      "Requirement already satisfied: idna<4,>=2.5 in /home/sushank/.local/lib/python3.8/site-packages (from requests>=2.19.0->pooch>=1.1->librosa) (3.10)\n",
      "Requirement already satisfied: charset-normalizer<4,>=2 in /home/sushank/.local/lib/python3.8/site-packages (from requests>=2.19.0->pooch>=1.1->librosa) (3.4.0)\n",
      "Requirement already satisfied: zipp>=3.20 in /home/sushank/.local/lib/python3.8/site-packages (from importlib-metadata; python_version < \"3.9\"->numba>=0.51.0->librosa) (3.20.2)\n",
      "Requirement already satisfied: matplotlib in /home/sushank/.local/lib/python3.8/site-packages (3.7.5)\n",
      "Requirement already satisfied: python-dateutil>=2.7 in /home/sushank/.local/lib/python3.8/site-packages (from matplotlib) (2.9.0.post0)\n",
      "Requirement already satisfied: cycler>=0.10 in /home/sushank/.local/lib/python3.8/site-packages (from matplotlib) (0.12.1)\n",
      "Requirement already satisfied: importlib-resources>=3.2.0; python_version < \"3.10\" in /home/sushank/.local/lib/python3.8/site-packages (from matplotlib) (6.4.5)\n",
      "Requirement already satisfied: kiwisolver>=1.0.1 in /home/sushank/.local/lib/python3.8/site-packages (from matplotlib) (1.4.7)\n",
      "Requirement already satisfied: fonttools>=4.22.0 in /home/sushank/.local/lib/python3.8/site-packages (from matplotlib) (4.54.1)\n",
      "Requirement already satisfied: packaging>=20.0 in /home/sushank/.local/lib/python3.8/site-packages (from matplotlib) (24.1)\n",
      "Requirement already satisfied: pillow>=6.2.0 in /usr/lib/python3/dist-packages (from matplotlib) (7.0.0)\n",
      "Requirement already satisfied: pyparsing>=2.3.1 in /home/sushank/.local/lib/python3.8/site-packages (from matplotlib) (3.1.4)\n",
      "Requirement already satisfied: numpy<2,>=1.20 in /home/sushank/.local/lib/python3.8/site-packages (from matplotlib) (1.24.3)\n",
      "Requirement already satisfied: contourpy>=1.0.1 in /home/sushank/.local/lib/python3.8/site-packages (from matplotlib) (1.1.1)\n",
      "Requirement already satisfied: six>=1.5 in /usr/lib/python3/dist-packages (from python-dateutil>=2.7->matplotlib) (1.14.0)\n",
      "Requirement already satisfied: zipp>=3.1.0; python_version < \"3.10\" in /home/sushank/.local/lib/python3.8/site-packages (from importlib-resources>=3.2.0; python_version < \"3.10\"->matplotlib) (3.20.2)\n",
      "Requirement already satisfied: numpy in /home/sushank/.local/lib/python3.8/site-packages (1.24.3)\n",
      "Collecting librosa\n",
      "  Using cached librosa-0.10.2.post1-py3-none-any.whl (260 kB)\n",
      "Collecting soundfile\n",
      "  Using cached soundfile-0.12.1-py2.py3-none-any.whl (24 kB)\n",
      "Collecting audioread\n",
      "  Using cached audioread-3.0.1-py3-none-any.whl (23 kB)\n",
      "Collecting scikit-learn>=0.20.0\n",
      "  Using cached scikit_learn-1.3.2-cp38-cp38-manylinux_2_17_x86_64.manylinux2014_x86_64.whl (11.1 MB)\n",
      "Collecting numpy!=1.22.0,!=1.22.1,!=1.22.2,>=1.20.3\n",
      "  Using cached numpy-1.24.4-cp38-cp38-manylinux_2_17_x86_64.manylinux2014_x86_64.whl (17.3 MB)\n",
      "Collecting decorator>=4.3.0\n",
      "  Using cached decorator-5.1.1-py3-none-any.whl (9.1 kB)\n",
      "Collecting numba>=0.51.0\n",
      "  Using cached numba-0.58.1-cp38-cp38-manylinux2014_x86_64.manylinux_2_17_x86_64.whl (3.7 MB)\n",
      "Collecting scipy>=1.2.0\n",
      "  Using cached scipy-1.10.1-cp38-cp38-manylinux_2_17_x86_64.manylinux2014_x86_64.whl (34.5 MB)\n",
      "Collecting msgpack>=1.0\n",
      "  Using cached msgpack-1.1.0-cp38-cp38-manylinux_2_17_x86_64.manylinux2014_x86_64.whl (381 kB)\n",
      "Collecting typing-extensions>=4.1.1\n",
      "  Using cached typing_extensions-4.12.2-py3-none-any.whl (37 kB)\n",
      "Collecting pooch>=1.1\n",
      "  Using cached pooch-1.8.2-py3-none-any.whl (64 kB)\n",
      "Collecting soxr>=0.3.2\n",
      "  Using cached soxr-0.3.7-cp38-cp38-manylinux_2_17_x86_64.manylinux2014_x86_64.whl (1.3 MB)\n",
      "Collecting lazy-loader>=0.1\n",
      "  Using cached lazy_loader-0.4-py3-none-any.whl (12 kB)\n",
      "Collecting joblib>=0.14\n",
      "  Using cached joblib-1.4.2-py3-none-any.whl (301 kB)\n",
      "Collecting cffi>=1.0\n",
      "  Using cached cffi-1.17.1-cp38-cp38-manylinux_2_17_x86_64.manylinux2014_x86_64.whl (446 kB)\n",
      "Collecting threadpoolctl>=2.0.0\n",
      "  Using cached threadpoolctl-3.5.0-py3-none-any.whl (18 kB)\n",
      "Collecting importlib-metadata; python_version < \"3.9\"\n",
      "  Using cached importlib_metadata-8.5.0-py3-none-any.whl (26 kB)\n",
      "Collecting llvmlite<0.42,>=0.41.0dev0\n",
      "  Using cached llvmlite-0.41.1-cp38-cp38-manylinux_2_17_x86_64.manylinux2014_x86_64.whl (43.6 MB)\n",
      "Collecting packaging>=20.0\n",
      "  Downloading packaging-24.2-py3-none-any.whl (65 kB)\n",
      "\u001b[K     |████████████████████████████████| 65 kB 822 kB/s eta 0:00:011\n",
      "\u001b[?25hCollecting platformdirs>=2.5.0\n",
      "  Using cached platformdirs-4.3.6-py3-none-any.whl (18 kB)\n",
      "Collecting requests>=2.19.0\n",
      "  Using cached requests-2.32.3-py3-none-any.whl (64 kB)\n",
      "Collecting pycparser\n",
      "  Using cached pycparser-2.22-py3-none-any.whl (117 kB)\n",
      "Collecting zipp>=3.20\n",
      "  Using cached zipp-3.20.2-py3-none-any.whl (9.2 kB)\n",
      "Collecting certifi>=2017.4.17\n",
      "  Using cached certifi-2024.8.30-py3-none-any.whl (167 kB)\n",
      "Collecting idna<4,>=2.5\n",
      "  Using cached idna-3.10-py3-none-any.whl (70 kB)\n",
      "Collecting charset-normalizer<4,>=2\n",
      "  Using cached charset_normalizer-3.4.0-cp38-cp38-manylinux_2_17_x86_64.manylinux2014_x86_64.whl (143 kB)\n",
      "Collecting urllib3<3,>=1.21.1\n",
      "  Using cached urllib3-2.2.3-py3-none-any.whl (126 kB)\n",
      "\u001b[31mERROR: tensorflow 2.13.1 has requirement numpy<=1.24.3,>=1.22, but you'll have numpy 1.24.4 which is incompatible.\u001b[0m\n",
      "\u001b[31mERROR: tensorflow 2.13.1 has requirement typing-extensions<4.6.0,>=3.6.6, but you'll have typing-extensions 4.12.2 which is incompatible.\u001b[0m\n",
      "Installing collected packages: numpy, scipy, threadpoolctl, joblib, scikit-learn, audioread, decorator, zipp, importlib-metadata, llvmlite, numba, msgpack, pycparser, cffi, soundfile, typing-extensions, packaging, platformdirs, certifi, idna, charset-normalizer, urllib3, requests, pooch, soxr, lazy-loader, librosa\n",
      "  Attempting uninstall: numpy\n",
      "    Found existing installation: numpy 1.24.3\n",
      "    Uninstalling numpy-1.24.3:\n",
      "      Successfully uninstalled numpy-1.24.3\n",
      "  Attempting uninstall: scipy\n",
      "    Found existing installation: scipy 1.10.1\n",
      "    Uninstalling scipy-1.10.1:\n",
      "      Successfully uninstalled scipy-1.10.1\n",
      "  Attempting uninstall: threadpoolctl\n",
      "    Found existing installation: threadpoolctl 3.5.0\n",
      "    Uninstalling threadpoolctl-3.5.0:\n",
      "      Successfully uninstalled threadpoolctl-3.5.0\n",
      "  Attempting uninstall: joblib\n",
      "    Found existing installation: joblib 1.4.2\n",
      "    Uninstalling joblib-1.4.2:\n",
      "      Successfully uninstalled joblib-1.4.2\n",
      "  Attempting uninstall: scikit-learn\n",
      "    Found existing installation: scikit-learn 1.3.2\n",
      "    Uninstalling scikit-learn-1.3.2:\n",
      "      Successfully uninstalled scikit-learn-1.3.2\n",
      "  Attempting uninstall: audioread\n",
      "    Found existing installation: audioread 3.0.1\n",
      "    Uninstalling audioread-3.0.1:\n",
      "      Successfully uninstalled audioread-3.0.1\n",
      "  Attempting uninstall: decorator\n",
      "    Found existing installation: decorator 5.1.1\n",
      "    Uninstalling decorator-5.1.1:\n",
      "      Successfully uninstalled decorator-5.1.1\n",
      "  Attempting uninstall: zipp\n",
      "    Found existing installation: zipp 3.20.2\n",
      "    Uninstalling zipp-3.20.2:\n",
      "      Successfully uninstalled zipp-3.20.2\n",
      "  Attempting uninstall: importlib-metadata\n",
      "    Found existing installation: importlib-metadata 8.5.0\n",
      "    Uninstalling importlib-metadata-8.5.0:\n",
      "      Successfully uninstalled importlib-metadata-8.5.0\n",
      "  Attempting uninstall: llvmlite\n",
      "    Found existing installation: llvmlite 0.41.1\n",
      "    Uninstalling llvmlite-0.41.1:\n",
      "      Successfully uninstalled llvmlite-0.41.1\n",
      "  Attempting uninstall: numba\n",
      "    Found existing installation: numba 0.58.1\n",
      "    Uninstalling numba-0.58.1:\n",
      "      Successfully uninstalled numba-0.58.1\n",
      "  Attempting uninstall: msgpack\n",
      "    Found existing installation: msgpack 1.1.0\n",
      "    Uninstalling msgpack-1.1.0:\n",
      "      Successfully uninstalled msgpack-1.1.0\n",
      "  Attempting uninstall: pycparser\n",
      "    Found existing installation: pycparser 2.22\n",
      "    Uninstalling pycparser-2.22:\n",
      "      Successfully uninstalled pycparser-2.22\n",
      "  Attempting uninstall: cffi\n",
      "    Found existing installation: cffi 1.17.1\n",
      "    Uninstalling cffi-1.17.1:\n",
      "      Successfully uninstalled cffi-1.17.1\n",
      "  Attempting uninstall: soundfile\n",
      "    Found existing installation: soundfile 0.12.1\n",
      "    Uninstalling soundfile-0.12.1:\n",
      "      Successfully uninstalled soundfile-0.12.1\n",
      "  Attempting uninstall: typing-extensions\n",
      "    Found existing installation: typing-extensions 4.5.0\n",
      "    Uninstalling typing-extensions-4.5.0:\n",
      "      Successfully uninstalled typing-extensions-4.5.0\n",
      "  Attempting uninstall: packaging\n",
      "    Found existing installation: packaging 24.1\n",
      "    Uninstalling packaging-24.1:\n",
      "      Successfully uninstalled packaging-24.1\n",
      "  Attempting uninstall: platformdirs\n",
      "    Found existing installation: platformdirs 4.3.6\n",
      "    Uninstalling platformdirs-4.3.6:\n",
      "      Successfully uninstalled platformdirs-4.3.6\n",
      "  Attempting uninstall: certifi\n",
      "    Found existing installation: certifi 2024.8.30\n",
      "    Uninstalling certifi-2024.8.30:\n",
      "      Successfully uninstalled certifi-2024.8.30\n",
      "  Attempting uninstall: idna\n",
      "    Found existing installation: idna 3.10\n",
      "    Uninstalling idna-3.10:\n",
      "      Successfully uninstalled idna-3.10\n",
      "  Attempting uninstall: charset-normalizer\n",
      "    Found existing installation: charset-normalizer 3.4.0\n",
      "    Uninstalling charset-normalizer-3.4.0:\n",
      "      Successfully uninstalled charset-normalizer-3.4.0\n",
      "  Attempting uninstall: urllib3\n",
      "    Found existing installation: urllib3 2.2.3\n",
      "    Uninstalling urllib3-2.2.3:\n",
      "      Successfully uninstalled urllib3-2.2.3\n",
      "  Attempting uninstall: requests\n",
      "    Found existing installation: requests 2.32.3\n",
      "    Uninstalling requests-2.32.3:\n",
      "      Successfully uninstalled requests-2.32.3\n",
      "  Attempting uninstall: pooch\n",
      "    Found existing installation: pooch 1.8.2\n",
      "    Uninstalling pooch-1.8.2:\n",
      "      Successfully uninstalled pooch-1.8.2\n",
      "  Attempting uninstall: soxr\n",
      "    Found existing installation: soxr 0.3.7\n",
      "    Uninstalling soxr-0.3.7:\n",
      "      Successfully uninstalled soxr-0.3.7\n",
      "  Attempting uninstall: lazy-loader\n",
      "    Found existing installation: lazy-loader 0.4\n",
      "    Uninstalling lazy-loader-0.4:\n",
      "      Successfully uninstalled lazy-loader-0.4\n",
      "  Attempting uninstall: librosa\n",
      "    Found existing installation: librosa 0.10.2.post1\n",
      "    Uninstalling librosa-0.10.2.post1:\n",
      "      Successfully uninstalled librosa-0.10.2.post1\n",
      "Successfully installed audioread-3.0.1 certifi-2024.8.30 cffi-1.17.1 charset-normalizer-3.4.0 decorator-5.1.1 idna-3.10 importlib-metadata-8.5.0 joblib-1.4.2 lazy-loader-0.4 librosa-0.10.2.post1 llvmlite-0.41.1 msgpack-1.1.0 numba-0.58.1 numpy-1.24.4 packaging-24.2 platformdirs-4.3.6 pooch-1.8.2 pycparser-2.22 requests-2.32.3 scikit-learn-1.3.2 scipy-1.10.1 soundfile-0.12.1 soxr-0.3.7 threadpoolctl-3.5.0 typing-extensions-4.12.2 urllib3-2.2.3 zipp-3.20.2\n",
      "Requirement already satisfied: ffmpeg-python in /home/sushank/.local/lib/python3.8/site-packages (0.2.0)\n",
      "Requirement already satisfied: future in /usr/lib/python3/dist-packages (from ffmpeg-python) (0.18.2)\n"
     ]
    }
   ],
   "source": [
    "! pip install librosa\n",
    "! pip install matplotlib\n",
    "! pip install numpy\n",
    "! pip install --upgrade --force-reinstall librosa soundfile audioread\n",
    "! pip install ffmpeg-python"
   ]
  },
  {
   "cell_type": "code",
   "execution_count": 6,
   "id": "34b8af21-f169-41e8-9369-c6f92b6ddf11",
   "metadata": {},
   "outputs": [],
   "source": [
    "import os\n",
    "import librosa\n",
    "import matplotlib.pyplot as plt\n",
    "import numpy as np\n",
    "import IPython.display as ipd\n",
    "from scipy.io import wavfile # for audio procession"
   ]
  },
  {
   "cell_type": "code",
   "execution_count": 7,
   "id": "2b407e4f-6d99-44f3-b6a3-6056303bf524",
   "metadata": {},
   "outputs": [
    {
     "name": "stdout",
     "output_type": "stream",
     "text": [
      "./tensorflow-speech-recognition-challenge/yes/0a9f9af7_nohash_0.wav\n",
      "************************* SAMPLES *************************\n",
      "[-6.1035156e-05 -1.8310547e-04 -1.2207031e-04 ... -9.1552734e-05\n",
      " -1.2207031e-04 -3.9672852e-04]\n",
      "************************* LINSPACE *************************\n",
      "[0.00000000e+00 6.25039065e-05 1.25007813e-04 ... 9.99874992e-01\n",
      " 9.99937496e-01 1.00000000e+00]\n",
      "************************* SAMPLE_RATE *************************\n",
      "16000\n"
     ]
    },
    {
     "data": {
      "image/png": "[encoded data removed]",
      "text/plain": [
       "<Figure size 1400x800 with 1 Axes>"
      ]
     },
     "metadata": {},
     "output_type": "display_data"
    }
   ],
   "source": [
    "# 1. Get the path of the audio file\n",
    "train_audio_path = './tensorflow-speech-recognition-challenge/';\n",
    "print(train_audio_path+'yes/0a9f9af7_nohash_0.wav')\n",
    "\n",
    "output_file = 'output_wav.wav'\n",
    "\n",
    "# 2. Load the audio as waveform 'samples'\n",
    "#    Store the sampling rate as 'sample_rate'\n",
    "samples, sample_rate = librosa.load(train_audio_path+'yes/0a2b400e_nohash_0.wav', sr=16000) # Using sr=None to keep the original sampling rate\n",
    "\n",
    "figure = plt.figure(figsize=(14,8))\n",
    "ax1 = figure.add_subplot(211)\n",
    "ax1.set_title('Raw wave of ' + train_audio_path + ' yes/0a2b400e_nohash_0.wav')\n",
    "ax1.set_xlabel('Time')\n",
    "ax1.set_ylabel('Amplitude')\n",
    "ax1.plot(np.linspace(0, len(samples)/sample_rate, len(samples)), samples)\n",
    "\n",
    "print('************************* SAMPLES *************************')\n",
    "print(samples)\n",
    "print('************************* LINSPACE *************************')\n",
    "print(np.linspace(0, sample_rate/len(samples), len(samples)))\n",
    "print('************************* SAMPLE_RATE *************************')\n",
    "print(sample_rate)\n"
   ]
  },
  {
   "cell_type": "code",
   "execution_count": 8,
   "id": "70486abd-197c-451d-9384-563dd13ef292",
   "metadata": {},
   "outputs": [
    {
     "name": "stdout",
     "output_type": "stream",
     "text": [
      "************************* SAMPLES *************************\n",
      "[-6.1035156e-05 -1.8310547e-04 -1.2207031e-04 ... -9.1552734e-05\n",
      " -1.2207031e-04 -3.9672852e-04]\n",
      "************************* SAMPLE_RATE *************************\n",
      "16000\n"
     ]
    }
   ],
   "source": [
    "ipd.Audio(samples, rate=sample_rate)\n",
    "print('************************* SAMPLES *************************')\n",
    "print(samples)\n",
    "print('************************* SAMPLE_RATE *************************')\n",
    "print(sample_rate)\n"
   ]
  },
  {
   "cell_type": "code",
   "execution_count": 10,
   "id": "16748ea5-5e2e-4249-9b79-47a5900daf54",
   "metadata": {},
   "outputs": [
    {
     "data": {
      "text/html": [
       "\n",
       "                <audio  controls=\"controls\" >\n",
       "                    <source src=\"data:audio/wav;base64,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\" type=\"audio/wav\" />\n",
       "                    Your browser does not support the audio element.\n",
       "                </audio>\n",
       "              "
      ],
      "text/plain": [
       "<IPython.lib.display.Audio object>"
      ]
     },
     "execution_count": 10,
     "metadata": {},
     "output_type": "execute_result"
    }
   ],
   "source": [
    "# Resampling to 8000 Hz since most of the speech related frequency are present in 8000 Hz\n",
    "librosa.resample(samples, orig_sr=sample_rate, target_sr=8000)\n",
    "ipd.Audio(samples, rate=8000)"
   ]
  },
  {
   "cell_type": "code",
   "execution_count": null,
   "id": "19a85e0c-5951-4167-8cda-cd72d5f61b03",
   "metadata": {},
   "outputs": [],
   "source": []
  },
  {
   "cell_type": "code",
   "execution_count": 21,
   "id": "f0f8758f-6a14-4fd7-be72-94d71e3022e0",
   "metadata": {},
   "outputs": [
    {
     "name": "stdout",
     "output_type": "stream",
     "text": [
      "['stop', 'off', 'three', '_background_noise_', 'up', 'README.md', 'house', 'zero', 'on', 'four', 'LICENSE', '.ipynb_checkpoints', 'go', 'left', 'wow', 'two', 'seven', 'testing_list.txt', 'visual', 'down', 'no', 'follow', 'one', 'dog', 'forward', 'eight', 'learn', 'bird', 'right', 'yes', 'marvin', 'bed', 'five', 'backward', 'cat', 'sheila', 'validation_list.txt', 'happy', 'tree', 'six', 'nine']\n"
     ]
    }
   ],
   "source": [
    "labels = os.listdir(train_audio_path)\n",
    "\n",
    "# Find count of each label and plot bar graph\n",
    "no_of_recordings=[]\n",
    "new_labels = []\n",
    "for label in labels:\n",
    "    if os.path.isdir(train_audio_path + label):\n",
    "        waves = [f for f in os.listdir(train_audio_path + label) if f.endswith('.wav')]\n",
    "        no_of_recordings.append(len(waves))\n",
    "        new_labels.append(label)\n",
    "\n",
    "print(labels)"
   ]
  },
  {
   "cell_type": "code",
   "execution_count": 19,
   "id": "83fc96f8-79cf-418c-a09e-07b1ff63e6d2",
   "metadata": {},
   "outputs": [
    {
     "name": "stdout",
     "output_type": "stream",
     "text": [
      "[ 0  1  2  3  4  5  6  7  8  9 10 11 12 13 14 15 16 17 18 19 20 21 22 23\n",
      " 24 25 26 27 28 29 30 31 32 33 34 35 36 37 38 39 40]\n",
      "[3872, 3745, 3727, 6, 3723, 2113, 4052, 3845, 3728, 0, 3880, 3801, 2123, 3880, 3998, 1592, 3917, 3941, 1579, 3890, 2128, 1557, 3787, 1575, 2064, 3778, 4044, 2100, 2014, 4052, 1664, 2031, 2022, 2054, 1759, 3860, 3934]\n"
     ]
    },
    {
     "ename": "ValueError",
     "evalue": "shape mismatch: objects cannot be broadcast to a single shape.  Mismatch is between arg 0 with shape (41,) and arg 1 with shape (37,).",
     "output_type": "error",
     "traceback": [
      "\u001b[0;31m---------------------------------------------------------------------------\u001b[0m",
      "\u001b[0;31mValueError\u001b[0m                                Traceback (most recent call last)",
      "Cell \u001b[0;32mIn[19], line 7\u001b[0m\n\u001b[1;32m      5\u001b[0m \u001b[38;5;28mprint\u001b[39m(index)\n\u001b[1;32m      6\u001b[0m \u001b[38;5;28mprint\u001b[39m(no_of_recordings)\n\u001b[0;32m----> 7\u001b[0m \u001b[43mplt\u001b[49m\u001b[38;5;241;43m.\u001b[39;49m\u001b[43mbar\u001b[49m\u001b[43m(\u001b[49m\u001b[43mindex\u001b[49m\u001b[43m,\u001b[49m\u001b[43m \u001b[49m\u001b[43mno_of_recordings\u001b[49m\u001b[43m)\u001b[49m\n\u001b[1;32m      8\u001b[0m plt\u001b[38;5;241m.\u001b[39mxlabel(\u001b[38;5;124m'\u001b[39m\u001b[38;5;124mCommands\u001b[39m\u001b[38;5;124m'\u001b[39m, fontsize\u001b[38;5;241m=\u001b[39m\u001b[38;5;241m12\u001b[39m)\n\u001b[1;32m      9\u001b[0m plt\u001b[38;5;241m.\u001b[39mylabel(\u001b[38;5;124m'\u001b[39m\u001b[38;5;124mNo of recordings\u001b[39m\u001b[38;5;124m'\u001b[39m, fontsize\u001b[38;5;241m=\u001b[39m\u001b[38;5;241m12\u001b[39m)\n",
      "File \u001b[0;32m~/.local/lib/python3.8/site-packages/matplotlib/pyplot.py:2439\u001b[0m, in \u001b[0;36mbar\u001b[0;34m(x, height, width, bottom, align, data, **kwargs)\u001b[0m\n\u001b[1;32m   2435\u001b[0m \u001b[38;5;129m@_copy_docstring_and_deprecators\u001b[39m(Axes\u001b[38;5;241m.\u001b[39mbar)\n\u001b[1;32m   2436\u001b[0m \u001b[38;5;28;01mdef\u001b[39;00m \u001b[38;5;21mbar\u001b[39m(\n\u001b[1;32m   2437\u001b[0m         x, height, width\u001b[38;5;241m=\u001b[39m\u001b[38;5;241m0.8\u001b[39m, bottom\u001b[38;5;241m=\u001b[39m\u001b[38;5;28;01mNone\u001b[39;00m, \u001b[38;5;241m*\u001b[39m, align\u001b[38;5;241m=\u001b[39m\u001b[38;5;124m'\u001b[39m\u001b[38;5;124mcenter\u001b[39m\u001b[38;5;124m'\u001b[39m,\n\u001b[1;32m   2438\u001b[0m         data\u001b[38;5;241m=\u001b[39m\u001b[38;5;28;01mNone\u001b[39;00m, \u001b[38;5;241m*\u001b[39m\u001b[38;5;241m*\u001b[39mkwargs):\n\u001b[0;32m-> 2439\u001b[0m     \u001b[38;5;28;01mreturn\u001b[39;00m \u001b[43mgca\u001b[49m\u001b[43m(\u001b[49m\u001b[43m)\u001b[49m\u001b[38;5;241;43m.\u001b[39;49m\u001b[43mbar\u001b[49m\u001b[43m(\u001b[49m\n\u001b[1;32m   2440\u001b[0m \u001b[43m        \u001b[49m\u001b[43mx\u001b[49m\u001b[43m,\u001b[49m\u001b[43m \u001b[49m\u001b[43mheight\u001b[49m\u001b[43m,\u001b[49m\u001b[43m \u001b[49m\u001b[43mwidth\u001b[49m\u001b[38;5;241;43m=\u001b[39;49m\u001b[43mwidth\u001b[49m\u001b[43m,\u001b[49m\u001b[43m \u001b[49m\u001b[43mbottom\u001b[49m\u001b[38;5;241;43m=\u001b[39;49m\u001b[43mbottom\u001b[49m\u001b[43m,\u001b[49m\u001b[43m \u001b[49m\u001b[43malign\u001b[49m\u001b[38;5;241;43m=\u001b[39;49m\u001b[43malign\u001b[49m\u001b[43m,\u001b[49m\n\u001b[1;32m   2441\u001b[0m \u001b[43m        \u001b[49m\u001b[38;5;241;43m*\u001b[39;49m\u001b[38;5;241;43m*\u001b[39;49m\u001b[43m(\u001b[49m\u001b[43m{\u001b[49m\u001b[38;5;124;43m\"\u001b[39;49m\u001b[38;5;124;43mdata\u001b[39;49m\u001b[38;5;124;43m\"\u001b[39;49m\u001b[43m:\u001b[49m\u001b[43m \u001b[49m\u001b[43mdata\u001b[49m\u001b[43m}\u001b[49m\u001b[43m \u001b[49m\u001b[38;5;28;43;01mif\u001b[39;49;00m\u001b[43m \u001b[49m\u001b[43mdata\u001b[49m\u001b[43m \u001b[49m\u001b[38;5;129;43;01mis\u001b[39;49;00m\u001b[43m \u001b[49m\u001b[38;5;129;43;01mnot\u001b[39;49;00m\u001b[43m \u001b[49m\u001b[38;5;28;43;01mNone\u001b[39;49;00m\u001b[43m \u001b[49m\u001b[38;5;28;43;01melse\u001b[39;49;00m\u001b[43m \u001b[49m\u001b[43m{\u001b[49m\u001b[43m}\u001b[49m\u001b[43m)\u001b[49m\u001b[43m,\u001b[49m\u001b[43m \u001b[49m\u001b[38;5;241;43m*\u001b[39;49m\u001b[38;5;241;43m*\u001b[39;49m\u001b[43mkwargs\u001b[49m\u001b[43m)\u001b[49m\n",
      "File \u001b[0;32m~/.local/lib/python3.8/site-packages/matplotlib/__init__.py:1446\u001b[0m, in \u001b[0;36m_preprocess_data.<locals>.inner\u001b[0;34m(ax, data, *args, **kwargs)\u001b[0m\n\u001b[1;32m   1443\u001b[0m \u001b[38;5;129m@functools\u001b[39m\u001b[38;5;241m.\u001b[39mwraps(func)\n\u001b[1;32m   1444\u001b[0m \u001b[38;5;28;01mdef\u001b[39;00m \u001b[38;5;21minner\u001b[39m(ax, \u001b[38;5;241m*\u001b[39margs, data\u001b[38;5;241m=\u001b[39m\u001b[38;5;28;01mNone\u001b[39;00m, \u001b[38;5;241m*\u001b[39m\u001b[38;5;241m*\u001b[39mkwargs):\n\u001b[1;32m   1445\u001b[0m     \u001b[38;5;28;01mif\u001b[39;00m data \u001b[38;5;129;01mis\u001b[39;00m \u001b[38;5;28;01mNone\u001b[39;00m:\n\u001b[0;32m-> 1446\u001b[0m         \u001b[38;5;28;01mreturn\u001b[39;00m \u001b[43mfunc\u001b[49m\u001b[43m(\u001b[49m\u001b[43max\u001b[49m\u001b[43m,\u001b[49m\u001b[43m \u001b[49m\u001b[38;5;241;43m*\u001b[39;49m\u001b[38;5;28;43mmap\u001b[39;49m\u001b[43m(\u001b[49m\u001b[43msanitize_sequence\u001b[49m\u001b[43m,\u001b[49m\u001b[43m \u001b[49m\u001b[43margs\u001b[49m\u001b[43m)\u001b[49m\u001b[43m,\u001b[49m\u001b[43m \u001b[49m\u001b[38;5;241;43m*\u001b[39;49m\u001b[38;5;241;43m*\u001b[39;49m\u001b[43mkwargs\u001b[49m\u001b[43m)\u001b[49m\n\u001b[1;32m   1448\u001b[0m     bound \u001b[38;5;241m=\u001b[39m new_sig\u001b[38;5;241m.\u001b[39mbind(ax, \u001b[38;5;241m*\u001b[39margs, \u001b[38;5;241m*\u001b[39m\u001b[38;5;241m*\u001b[39mkwargs)\n\u001b[1;32m   1449\u001b[0m     auto_label \u001b[38;5;241m=\u001b[39m (bound\u001b[38;5;241m.\u001b[39marguments\u001b[38;5;241m.\u001b[39mget(label_namer)\n\u001b[1;32m   1450\u001b[0m                   \u001b[38;5;129;01mor\u001b[39;00m bound\u001b[38;5;241m.\u001b[39mkwargs\u001b[38;5;241m.\u001b[39mget(label_namer))\n",
      "File \u001b[0;32m~/.local/lib/python3.8/site-packages/matplotlib/axes/_axes.py:2409\u001b[0m, in \u001b[0;36mAxes.bar\u001b[0;34m(self, x, height, width, bottom, align, **kwargs)\u001b[0m\n\u001b[1;32m   2406\u001b[0m     \u001b[38;5;28;01mif\u001b[39;00m yerr \u001b[38;5;129;01mis\u001b[39;00m \u001b[38;5;129;01mnot\u001b[39;00m \u001b[38;5;28;01mNone\u001b[39;00m:\n\u001b[1;32m   2407\u001b[0m         yerr \u001b[38;5;241m=\u001b[39m \u001b[38;5;28mself\u001b[39m\u001b[38;5;241m.\u001b[39m_convert_dx(yerr, y0, y, \u001b[38;5;28mself\u001b[39m\u001b[38;5;241m.\u001b[39mconvert_yunits)\n\u001b[0;32m-> 2409\u001b[0m x, height, width, y, linewidth, hatch \u001b[38;5;241m=\u001b[39m \u001b[43mnp\u001b[49m\u001b[38;5;241;43m.\u001b[39;49m\u001b[43mbroadcast_arrays\u001b[49m\u001b[43m(\u001b[49m\n\u001b[1;32m   2410\u001b[0m \u001b[43m    \u001b[49m\u001b[38;5;66;43;03m# Make args iterable too.\u001b[39;49;00m\n\u001b[1;32m   2411\u001b[0m \u001b[43m    \u001b[49m\u001b[43mnp\u001b[49m\u001b[38;5;241;43m.\u001b[39;49m\u001b[43matleast_1d\u001b[49m\u001b[43m(\u001b[49m\u001b[43mx\u001b[49m\u001b[43m)\u001b[49m\u001b[43m,\u001b[49m\u001b[43m \u001b[49m\u001b[43mheight\u001b[49m\u001b[43m,\u001b[49m\u001b[43m \u001b[49m\u001b[43mwidth\u001b[49m\u001b[43m,\u001b[49m\u001b[43m \u001b[49m\u001b[43my\u001b[49m\u001b[43m,\u001b[49m\u001b[43m \u001b[49m\u001b[43mlinewidth\u001b[49m\u001b[43m,\u001b[49m\u001b[43m \u001b[49m\u001b[43mhatch\u001b[49m\u001b[43m)\u001b[49m\n\u001b[1;32m   2413\u001b[0m \u001b[38;5;66;03m# Now that units have been converted, set the tick locations.\u001b[39;00m\n\u001b[1;32m   2414\u001b[0m \u001b[38;5;28;01mif\u001b[39;00m orientation \u001b[38;5;241m==\u001b[39m \u001b[38;5;124m'\u001b[39m\u001b[38;5;124mvertical\u001b[39m\u001b[38;5;124m'\u001b[39m:\n",
      "File \u001b[0;32m<__array_function__ internals>:200\u001b[0m, in \u001b[0;36mbroadcast_arrays\u001b[0;34m(*args, **kwargs)\u001b[0m\n",
      "File \u001b[0;32m~/.local/lib/python3.8/site-packages/numpy/lib/stride_tricks.py:540\u001b[0m, in \u001b[0;36mbroadcast_arrays\u001b[0;34m(subok, *args)\u001b[0m\n\u001b[1;32m    533\u001b[0m \u001b[38;5;66;03m# nditer is not used here to avoid the limit of 32 arrays.\u001b[39;00m\n\u001b[1;32m    534\u001b[0m \u001b[38;5;66;03m# Otherwise, something like the following one-liner would suffice:\u001b[39;00m\n\u001b[1;32m    535\u001b[0m \u001b[38;5;66;03m# return np.nditer(args, flags=['multi_index', 'zerosize_ok'],\u001b[39;00m\n\u001b[1;32m    536\u001b[0m \u001b[38;5;66;03m#                  order='C').itviews\u001b[39;00m\n\u001b[1;32m    538\u001b[0m args \u001b[38;5;241m=\u001b[39m [np\u001b[38;5;241m.\u001b[39marray(_m, copy\u001b[38;5;241m=\u001b[39m\u001b[38;5;28;01mFalse\u001b[39;00m, subok\u001b[38;5;241m=\u001b[39msubok) \u001b[38;5;28;01mfor\u001b[39;00m _m \u001b[38;5;129;01min\u001b[39;00m args]\n\u001b[0;32m--> 540\u001b[0m shape \u001b[38;5;241m=\u001b[39m \u001b[43m_broadcast_shape\u001b[49m\u001b[43m(\u001b[49m\u001b[38;5;241;43m*\u001b[39;49m\u001b[43margs\u001b[49m\u001b[43m)\u001b[49m\n\u001b[1;32m    542\u001b[0m \u001b[38;5;28;01mif\u001b[39;00m \u001b[38;5;28mall\u001b[39m(array\u001b[38;5;241m.\u001b[39mshape \u001b[38;5;241m==\u001b[39m shape \u001b[38;5;28;01mfor\u001b[39;00m array \u001b[38;5;129;01min\u001b[39;00m args):\n\u001b[1;32m    543\u001b[0m     \u001b[38;5;66;03m# Common case where nothing needs to be broadcasted.\u001b[39;00m\n\u001b[1;32m    544\u001b[0m     \u001b[38;5;28;01mreturn\u001b[39;00m args\n",
      "File \u001b[0;32m~/.local/lib/python3.8/site-packages/numpy/lib/stride_tricks.py:422\u001b[0m, in \u001b[0;36m_broadcast_shape\u001b[0;34m(*args)\u001b[0m\n\u001b[1;32m    417\u001b[0m \u001b[38;5;250m\u001b[39m\u001b[38;5;124;03m\"\"\"Returns the shape of the arrays that would result from broadcasting the\u001b[39;00m\n\u001b[1;32m    418\u001b[0m \u001b[38;5;124;03msupplied arrays against each other.\u001b[39;00m\n\u001b[1;32m    419\u001b[0m \u001b[38;5;124;03m\"\"\"\u001b[39;00m\n\u001b[1;32m    420\u001b[0m \u001b[38;5;66;03m# use the old-iterator because np.nditer does not handle size 0 arrays\u001b[39;00m\n\u001b[1;32m    421\u001b[0m \u001b[38;5;66;03m# consistently\u001b[39;00m\n\u001b[0;32m--> 422\u001b[0m b \u001b[38;5;241m=\u001b[39m \u001b[43mnp\u001b[49m\u001b[38;5;241;43m.\u001b[39;49m\u001b[43mbroadcast\u001b[49m\u001b[43m(\u001b[49m\u001b[38;5;241;43m*\u001b[39;49m\u001b[43margs\u001b[49m\u001b[43m[\u001b[49m\u001b[43m:\u001b[49m\u001b[38;5;241;43m32\u001b[39;49m\u001b[43m]\u001b[49m\u001b[43m)\u001b[49m\n\u001b[1;32m    423\u001b[0m \u001b[38;5;66;03m# unfortunately, it cannot handle 32 or more arguments directly\u001b[39;00m\n\u001b[1;32m    424\u001b[0m \u001b[38;5;28;01mfor\u001b[39;00m pos \u001b[38;5;129;01min\u001b[39;00m \u001b[38;5;28mrange\u001b[39m(\u001b[38;5;241m32\u001b[39m, \u001b[38;5;28mlen\u001b[39m(args), \u001b[38;5;241m31\u001b[39m):\n\u001b[1;32m    425\u001b[0m     \u001b[38;5;66;03m# ironically, np.broadcast does not properly handle np.broadcast\u001b[39;00m\n\u001b[1;32m    426\u001b[0m     \u001b[38;5;66;03m# objects (it treats them as scalars)\u001b[39;00m\n\u001b[1;32m    427\u001b[0m     \u001b[38;5;66;03m# use broadcasting to avoid allocating the full array\u001b[39;00m\n",
      "\u001b[0;31mValueError\u001b[0m: shape mismatch: objects cannot be broadcast to a single shape.  Mismatch is between arg 0 with shape (41,) and arg 1 with shape (37,)."
     ]
    },
    {
     "data": {
      "image/png": "[encoded data removed]",
      "text/plain": [
       "<Figure size 3000x500 with 1 Axes>"
      ]
     },
     "metadata": {},
     "output_type": "display_data"
    }
   ],
   "source": [
    "# Plot\n",
    "labels = new_labels\n",
    "plt.figure(figsize=(30,5))\n",
    "index = np.arange(len(labels))\n",
    "print(index)\n",
    "print(no_of_recordings)\n",
    "plt.bar(index, no_of_recordings)\n",
    "plt.xlabel('Commands', fontsize=12)\n",
    "plt.ylabel('No of recordings', fontsize=12)\n",
    "plt.xticks(index, labels, fontsize=15, rotation=60)\n",
    "plt.title('No. of recordings for each command')\n",
    "plt.show()"
   ]
  },
  {
   "cell_type": "code",
   "execution_count": 188,
   "id": "efa0460c-a5c7-44a5-8cbb-2112c20474d5",
   "metadata": {},
   "outputs": [
    {
     "name": "stdout",
     "output_type": "stream",
     "text": [
      "./tensorflow-speech-recognition-challenge/train/audio/\n",
      "yes-2.wav\n",
      "yes-1.wav\n",
      "yes-3.wav\n",
      "yes-5.wav\n",
      "yes-4.wav\n",
      "[0.700702947845805, 0.767437641723356, 0.9342857142857143, 0.6673541666666667, 1.6349886621315193]\n"
     ]
    },
    {
     "data": {
      "text/plain": [
       "(array([2., 1., 1., 0., 0., 0., 0., 0., 0., 1.]),\n",
       " array([0.66735417, 0.76411762, 0.86088107, 0.95764452, 1.05440796,\n",
       "        1.15117141, 1.24793486, 1.34469831, 1.44146176, 1.53822521,\n",
       "        1.63498866]),\n",
       " <BarContainer object of 10 artists>)"
      ]
     },
     "execution_count": 188,
     "metadata": {},
     "output_type": "execute_result"
    },
    {
     "data": {
      "image/png": "[encoded data removed]",
      "text/plain": [
       "<Figure size 640x480 with 1 Axes>"
      ]
     },
     "metadata": {},
     "output_type": "display_data"
    }
   ],
   "source": [
    "# Duration of Recordings\n",
    "\n",
    "duration_of_recordings=[]\n",
    "for label in labels:\n",
    "    print(train_audio_path)\n",
    "    waves = [f for f in os.listdir(train_audio_path + label) if f.endswith('.wav')]\n",
    "    for wav in waves:\n",
    "        print(wav)\n",
    "        sample_rate, samples = wavfile.read(train_audio_path + '/' + label + '/' + wav)\n",
    "        duration_of_recordings.append(float(len(samples)/sample_rate))\n",
    "print(duration_of_recordings)\n",
    "plt.hist(np.array(duration_of_recordings))"
   ]
  },
  {
   "cell_type": "code",
   "execution_count": null,
   "id": "741dc741-def4-4b13-897e-9b062a4a8f68",
   "metadata": {},
   "outputs": [],
   "source": []
  },
  {
   "cell_type": "code",
   "execution_count": 352,
   "id": "85510d58-42dc-4765-81c6-74990ef2b006",
   "metadata": {},
   "outputs": [
    {
     "name": "stdout",
     "output_type": "stream",
     "text": [
      "my_yes\n",
      "11212\n",
      "5606\n",
      "*************************\n",
      "12280\n",
      "6140\n",
      "*************************\n",
      "14949\n",
      "7475\n",
      "*************************\n",
      "10678\n",
      "5339\n",
      "*************************\n",
      "26160\n",
      "13080\n",
      "*************************\n"
     ]
    }
   ],
   "source": [
    "# Preprocess ing the audio waves\n",
    "\n",
    "all_wave = []\n",
    "all_label = []\n",
    "target_sr = 8000\n",
    "for label in labels:\n",
    "    print(label)\n",
    "    waves = [f for f in os.listdir(train_audio_path + label) if f.endswith('.wav')]\n",
    "    for wav in waves:\n",
    "        samples, sample_rate = librosa.load(train_audio_path + label + '/' + wav, sr=16000)\n",
    "        print(len(samples))\n",
    "        samples = librosa.resample(samples, orig_sr=sample_rate, target_sr=target_sr)\n",
    "        print(len(samples))\n",
    "        print('*************************')\n",
    "\n",
    "          # Check the length of resampled audio\n",
    "        if len(samples) < target_sr:\n",
    "            # Pad with zeros if shorter than target_length\n",
    "            samples = np.pad(samples, (0, target_sr - len(samples)), 'constant')\n",
    "        elif len(samples) > target_sr:\n",
    "            # Truncate if longer than target_length\n",
    "            samples = samples[:target_sr]\n",
    "            \n",
    "        # if(len(samples) == 7475):\n",
    "        all_wave.append(samples)\n",
    "        all_label.append(label)\n",
    "        # all_wave.append(samples)\n",
    "        # all_label.append(label)\n"
   ]
  },
  {
   "cell_type": "code",
   "execution_count": 353,
   "id": "f89865e0-d8b2-45bb-bb1a-8e4a9ea7a5c2",
   "metadata": {},
   "outputs": [],
   "source": [
    "# Convert the output labes to integer encoded\n",
    "\n",
    "from sklearn.preprocessing import LabelEncoder\n",
    "le = LabelEncoder()\n",
    "y = le.fit_transform(all_label)\n",
    "classes = list(le.classes_)"
   ]
  },
  {
   "cell_type": "code",
   "execution_count": 354,
   "id": "5aa4299b-82e9-4e8f-8637-1f7beb622872",
   "metadata": {},
   "outputs": [
    {
     "name": "stdout",
     "output_type": "stream",
     "text": [
      "LabelEncoder()\n"
     ]
    }
   ],
   "source": [
    "print(le)"
   ]
  },
  {
   "cell_type": "code",
   "execution_count": null,
   "id": "781e4f75-04d3-40bb-95e2-f97232de131c",
   "metadata": {},
   "outputs": [],
   "source": []
  },
  {
   "cell_type": "code",
   "execution_count": 217,
   "id": "6c78ba78-4929-4ed6-bedd-9bb73f474245",
   "metadata": {},
   "outputs": [
    {
     "name": "stdout",
     "output_type": "stream",
     "text": [
      "Requirement already satisfied: keras in /home/sushank/.local/lib/python3.8/site-packages (2.13.1)\n",
      "Requirement already satisfied: np_utils in /home/sushank/.local/lib/python3.8/site-packages (0.6.0)\n",
      "Requirement already satisfied: numpy>=1.0 in /home/sushank/.local/lib/python3.8/site-packages (from np_utils) (1.24.3)\n"
     ]
    }
   ],
   "source": [
    "! pip install keras\n",
    "! pip install np_utils"
   ]
  },
  {
   "cell_type": "code",
   "execution_count": 218,
   "id": "8ab6a3a9-d244-4a6d-9b02-f0e87253610c",
   "metadata": {},
   "outputs": [
    {
     "name": "stdout",
     "output_type": "stream",
     "text": [
      "Requirement already satisfied: tensorflow in /home/sushank/.local/lib/python3.8/site-packages (2.13.1)\n",
      "Requirement already satisfied: tensorboard<2.14,>=2.13 in /home/sushank/.local/lib/python3.8/site-packages (from tensorflow) (2.13.0)\n",
      "Requirement already satisfied: absl-py>=1.0.0 in /home/sushank/.local/lib/python3.8/site-packages (from tensorflow) (2.1.0)\n",
      "Requirement already satisfied: gast<=0.4.0,>=0.2.1 in /home/sushank/.local/lib/python3.8/site-packages (from tensorflow) (0.4.0)\n",
      "Requirement already satisfied: astunparse>=1.6.0 in /home/sushank/.local/lib/python3.8/site-packages (from tensorflow) (1.6.3)\n",
      "Requirement already satisfied: typing-extensions<4.6.0,>=3.6.6 in /home/sushank/.local/lib/python3.8/site-packages (from tensorflow) (4.5.0)\n",
      "Requirement already satisfied: wrapt>=1.11.0 in /home/sushank/.local/lib/python3.8/site-packages (from tensorflow) (1.16.0)\n",
      "Requirement already satisfied: protobuf!=4.21.0,!=4.21.1,!=4.21.2,!=4.21.3,!=4.21.4,!=4.21.5,<5.0.0dev,>=3.20.3 in /home/sushank/.local/lib/python3.8/site-packages (from tensorflow) (4.25.5)\n",
      "Requirement already satisfied: keras<2.14,>=2.13.1 in /home/sushank/.local/lib/python3.8/site-packages (from tensorflow) (2.13.1)\n",
      "Requirement already satisfied: numpy<=1.24.3,>=1.22 in /home/sushank/.local/lib/python3.8/site-packages (from tensorflow) (1.24.3)\n",
      "Requirement already satisfied: tensorflow-estimator<2.14,>=2.13.0 in /home/sushank/.local/lib/python3.8/site-packages (from tensorflow) (2.13.0)\n",
      "Requirement already satisfied: termcolor>=1.1.0 in /home/sushank/.local/lib/python3.8/site-packages (from tensorflow) (2.4.0)\n",
      "Requirement already satisfied: libclang>=13.0.0 in /home/sushank/.local/lib/python3.8/site-packages (from tensorflow) (18.1.1)\n",
      "Requirement already satisfied: grpcio<2.0,>=1.24.3 in /home/sushank/.local/lib/python3.8/site-packages (from tensorflow) (1.67.1)\n",
      "Requirement already satisfied: flatbuffers>=23.1.21 in /home/sushank/.local/lib/python3.8/site-packages (from tensorflow) (24.3.25)\n",
      "Requirement already satisfied: h5py>=2.9.0 in /home/sushank/.local/lib/python3.8/site-packages (from tensorflow) (3.11.0)\n",
      "Requirement already satisfied: packaging in /home/sushank/.local/lib/python3.8/site-packages (from tensorflow) (24.1)\n",
      "Requirement already satisfied: google-pasta>=0.1.1 in /home/sushank/.local/lib/python3.8/site-packages (from tensorflow) (0.2.0)\n",
      "Requirement already satisfied: six>=1.12.0 in /usr/lib/python3/dist-packages (from tensorflow) (1.14.0)\n",
      "Requirement already satisfied: opt-einsum>=2.3.2 in /home/sushank/.local/lib/python3.8/site-packages (from tensorflow) (3.4.0)\n",
      "Requirement already satisfied: tensorflow-io-gcs-filesystem>=0.23.1; platform_machine != \"arm64\" or platform_system != \"Darwin\" in /home/sushank/.local/lib/python3.8/site-packages (from tensorflow) (0.34.0)\n",
      "Requirement already satisfied: setuptools in /usr/lib/python3/dist-packages (from tensorflow) (45.2.0)\n",
      "Requirement already satisfied: werkzeug>=1.0.1 in /home/sushank/.local/lib/python3.8/site-packages (from tensorboard<2.14,>=2.13->tensorflow) (3.0.6)\n",
      "Requirement already satisfied: markdown>=2.6.8 in /home/sushank/.local/lib/python3.8/site-packages (from tensorboard<2.14,>=2.13->tensorflow) (3.7)\n",
      "Requirement already satisfied: requests<3,>=2.21.0 in /home/sushank/.local/lib/python3.8/site-packages (from tensorboard<2.14,>=2.13->tensorflow) (2.32.3)\n",
      "Requirement already satisfied: google-auth-oauthlib<1.1,>=0.5 in /home/sushank/.local/lib/python3.8/site-packages (from tensorboard<2.14,>=2.13->tensorflow) (1.0.0)\n",
      "Requirement already satisfied: tensorboard-data-server<0.8.0,>=0.7.0 in /home/sushank/.local/lib/python3.8/site-packages (from tensorboard<2.14,>=2.13->tensorflow) (0.7.2)\n",
      "Requirement already satisfied: wheel>=0.26 in /usr/lib/python3/dist-packages (from tensorboard<2.14,>=2.13->tensorflow) (0.34.2)\n",
      "Requirement already satisfied: google-auth<3,>=1.6.3 in /home/sushank/.local/lib/python3.8/site-packages (from tensorboard<2.14,>=2.13->tensorflow) (2.35.0)\n",
      "Requirement already satisfied: MarkupSafe>=2.1.1 in /home/sushank/.local/lib/python3.8/site-packages (from werkzeug>=1.0.1->tensorboard<2.14,>=2.13->tensorflow) (2.1.5)\n",
      "Requirement already satisfied: importlib-metadata>=4.4; python_version < \"3.10\" in /home/sushank/.local/lib/python3.8/site-packages (from markdown>=2.6.8->tensorboard<2.14,>=2.13->tensorflow) (8.5.0)\n",
      "Requirement already satisfied: certifi>=2017.4.17 in /home/sushank/.local/lib/python3.8/site-packages (from requests<3,>=2.21.0->tensorboard<2.14,>=2.13->tensorflow) (2024.8.30)\n",
      "Requirement already satisfied: charset-normalizer<4,>=2 in /home/sushank/.local/lib/python3.8/site-packages (from requests<3,>=2.21.0->tensorboard<2.14,>=2.13->tensorflow) (3.4.0)\n",
      "Requirement already satisfied: urllib3<3,>=1.21.1 in /home/sushank/.local/lib/python3.8/site-packages (from requests<3,>=2.21.0->tensorboard<2.14,>=2.13->tensorflow) (2.2.3)\n",
      "Requirement already satisfied: idna<4,>=2.5 in /home/sushank/.local/lib/python3.8/site-packages (from requests<3,>=2.21.0->tensorboard<2.14,>=2.13->tensorflow) (3.10)\n",
      "Requirement already satisfied: requests-oauthlib>=0.7.0 in /home/sushank/.local/lib/python3.8/site-packages (from google-auth-oauthlib<1.1,>=0.5->tensorboard<2.14,>=2.13->tensorflow) (2.0.0)\n",
      "Requirement already satisfied: pyasn1-modules>=0.2.1 in /home/sushank/.local/lib/python3.8/site-packages (from google-auth<3,>=1.6.3->tensorboard<2.14,>=2.13->tensorflow) (0.4.1)\n",
      "Requirement already satisfied: rsa<5,>=3.1.4 in /home/sushank/.local/lib/python3.8/site-packages (from google-auth<3,>=1.6.3->tensorboard<2.14,>=2.13->tensorflow) (4.9)\n",
      "Requirement already satisfied: cachetools<6.0,>=2.0.0 in /home/sushank/.local/lib/python3.8/site-packages (from google-auth<3,>=1.6.3->tensorboard<2.14,>=2.13->tensorflow) (5.5.0)\n",
      "Requirement already satisfied: zipp>=3.20 in /home/sushank/.local/lib/python3.8/site-packages (from importlib-metadata>=4.4; python_version < \"3.10\"->markdown>=2.6.8->tensorboard<2.14,>=2.13->tensorflow) (3.20.2)\n",
      "Requirement already satisfied: oauthlib>=3.0.0 in /usr/lib/python3/dist-packages (from requests-oauthlib>=0.7.0->google-auth-oauthlib<1.1,>=0.5->tensorboard<2.14,>=2.13->tensorflow) (3.1.0)\n",
      "Requirement already satisfied: pyasn1<0.7.0,>=0.4.6 in /home/sushank/.local/lib/python3.8/site-packages (from pyasn1-modules>=0.2.1->google-auth<3,>=1.6.3->tensorboard<2.14,>=2.13->tensorflow) (0.6.1)\n"
     ]
    }
   ],
   "source": [
    "! pip install tensorflow"
   ]
  },
  {
   "cell_type": "code",
   "execution_count": 355,
   "id": "a5c96087-fc8f-4e7b-81e9-302b004d9df5",
   "metadata": {},
   "outputs": [],
   "source": [
    "from tensorflow.keras.utils import to_categorical\n",
    "\n",
    "y=to_categorical(y, num_classes=len(labels))"
   ]
  },
  {
   "cell_type": "code",
   "execution_count": 356,
   "id": "d187de5f-18be-4cff-b134-59429cb27f31",
   "metadata": {},
   "outputs": [
    {
     "name": "stdout",
     "output_type": "stream",
     "text": [
      "[array([ 4.6566129e-10, -1.0477379e-09,  4.6566129e-10, ...,\n",
      "        0.0000000e+00,  0.0000000e+00,  0.0000000e+00], dtype=float32), array([ 3.7252903e-09, -1.8626451e-09,  3.7252903e-09, ...,\n",
      "        0.0000000e+00,  0.0000000e+00,  0.0000000e+00], dtype=float32), array([-1.8626451e-09,  2.0954758e-09, -1.8626451e-09, ...,\n",
      "        0.0000000e+00,  0.0000000e+00,  0.0000000e+00], dtype=float32), array([ 2.7939677e-09,  3.7252903e-09, -5.5879354e-09, ...,\n",
      "        0.0000000e+00,  0.0000000e+00,  0.0000000e+00], dtype=float32), array([ 0.0000000e+00, -1.0186341e-10,  0.0000000e+00, ...,\n",
      "       -3.0476403e-01, -3.9631212e-01, -4.1171893e-01], dtype=float32)]\n"
     ]
    }
   ],
   "source": [
    "print(all_wave)"
   ]
  },
  {
   "cell_type": "code",
   "execution_count": 357,
   "id": "98895269-f329-4cab-a3e7-622aff46c21b",
   "metadata": {},
   "outputs": [],
   "source": [
    "# Reshape the 2D array to 3d since the input to the conv1d must be a 3D array\n",
    "all_wave = np.array(all_wave).reshape(-1, 8000, 1)"
   ]
  },
  {
   "cell_type": "code",
   "execution_count": null,
   "id": "a1095678-3337-476b-a715-fc903ce33079",
   "metadata": {},
   "outputs": [],
   "source": []
  },
  {
   "cell_type": "code",
   "execution_count": 358,
   "id": "cdd0c172-1ce7-4ebb-b470-80ac3d638a5e",
   "metadata": {},
   "outputs": [
    {
     "name": "stdout",
     "output_type": "stream",
     "text": [
      "[[[ 4.6566129e-10]\n",
      "  [-1.0477379e-09]\n",
      "  [ 4.6566129e-10]\n",
      "  ...\n",
      "  [ 0.0000000e+00]\n",
      "  [ 0.0000000e+00]\n",
      "  [ 0.0000000e+00]]\n",
      "\n",
      " [[ 3.7252903e-09]\n",
      "  [-1.8626451e-09]\n",
      "  [ 3.7252903e-09]\n",
      "  ...\n",
      "  [ 0.0000000e+00]\n",
      "  [ 0.0000000e+00]\n",
      "  [ 0.0000000e+00]]\n",
      "\n",
      " [[-1.8626451e-09]\n",
      "  [ 2.0954758e-09]\n",
      "  [-1.8626451e-09]\n",
      "  ...\n",
      "  [ 0.0000000e+00]\n",
      "  [ 0.0000000e+00]\n",
      "  [ 0.0000000e+00]]\n",
      "\n",
      " [[ 2.7939677e-09]\n",
      "  [ 3.7252903e-09]\n",
      "  [-5.5879354e-09]\n",
      "  ...\n",
      "  [ 0.0000000e+00]\n",
      "  [ 0.0000000e+00]\n",
      "  [ 0.0000000e+00]]\n",
      "\n",
      " [[ 0.0000000e+00]\n",
      "  [-1.0186341e-10]\n",
      "  [ 0.0000000e+00]\n",
      "  ...\n",
      "  [-3.0476403e-01]\n",
      "  [-3.9631212e-01]\n",
      "  [-4.1171893e-01]]]\n"
     ]
    }
   ],
   "source": [
    "# Splitting into train and validation set\n",
    "from sklearn.model_selection import train_test_split\n",
    "print(np.array(all_wave))\n",
    "x_tr, x_val, y_tr, y_val = train_test_split(np.array(all_wave), np.array(y), stratify=y, test_size = 0.2, random_state=777, shuffle=True)\n",
    "\n",
    "# x_tr = np.array(all_wave)\n",
    "# y_tr = np.array(y)"
   ]
  },
  {
   "cell_type": "code",
   "execution_count": null,
   "id": "c076ca82-41be-4f59-a5c7-595a433af60c",
   "metadata": {},
   "outputs": [],
   "source": []
  },
  {
   "cell_type": "code",
   "execution_count": 359,
   "id": "9715f4a6-47d0-4020-81dc-f6ddbc9e37f9",
   "metadata": {},
   "outputs": [],
   "source": [
    "# Model Building\n",
    "\n",
    "from keras.layers import Dense, Dropout, Flatten, Conv1D, Input, MaxPooling1D\n",
    "from keras.models import Model\n",
    "from keras.callbacks import EarlyStopping, ModelCheckpoint\n",
    "from keras import backend as K\n",
    "\n",
    "K.clear_session()\n",
    "\n",
    "inputs = Input(shape=(8000,1))"
   ]
  },
  {
   "cell_type": "code",
   "execution_count": 360,
   "id": "14738fbe-3421-4a39-a257-57b27ff697fe",
   "metadata": {},
   "outputs": [],
   "source": [
    "# Frist Conv1D layer\n",
    "\n",
    "conv = Conv1D(8, 13, padding='valid', activation='relu', strides=1)(inputs)\n",
    "conv = MaxPooling1D(3)(conv)\n",
    "conv = Dropout(0.3)(conv)"
   ]
  },
  {
   "cell_type": "code",
   "execution_count": 361,
   "id": "fd44d35b-c482-410a-ac81-1f4d2f3002f3",
   "metadata": {},
   "outputs": [],
   "source": [
    "# Second Conv1D layer\n",
    "\n",
    "conv = Conv1D(16, 11, padding='valid', activation='relu', strides=1)(conv)\n",
    "conv = MaxPooling1D(3)(conv)\n",
    "conv = Dropout(0.3)(conv)"
   ]
  },
  {
   "cell_type": "code",
   "execution_count": 362,
   "id": "23381ec1-7d0b-4c1e-9c6a-500076ebd1d2",
   "metadata": {},
   "outputs": [],
   "source": [
    "# Thrid Conv1D layer\n",
    "\n",
    "conv = Conv1D(32, 9, padding='valid', activation='relu', strides=1)(conv)\n",
    "conv = MaxPooling1D(3)(conv)\n",
    "conv = Dropout(0.3)(conv)"
   ]
  },
  {
   "cell_type": "code",
   "execution_count": 363,
   "id": "3779119f-c656-4d24-9e99-25730906782c",
   "metadata": {},
   "outputs": [],
   "source": [
    "# Fourth Conv1D layer\n",
    "\n",
    "conv = Conv1D(64, 7, padding='valid', activation='relu', strides=1)(conv)\n",
    "conv = MaxPooling1D(3)(conv)\n",
    "conv = Dropout(0.3)(conv)"
   ]
  },
  {
   "cell_type": "code",
   "execution_count": 364,
   "id": "6a2da3a8-0ede-4922-8b75-9ae16a2197cc",
   "metadata": {},
   "outputs": [],
   "source": [
    "# Flatten Layer\n",
    "conv = Flatten()(conv)"
   ]
  },
  {
   "cell_type": "code",
   "execution_count": 365,
   "id": "6c8b23dd-fe6e-4983-9547-d82ceb84665c",
   "metadata": {},
   "outputs": [],
   "source": [
    "# Dense Layer 1\n",
    "\n",
    "conv = Dense(256, activation='relu')(conv)\n",
    "conv = Dropout(0.3)(conv)"
   ]
  },
  {
   "cell_type": "code",
   "execution_count": 366,
   "id": "6306042b-5267-452d-a39d-5ec9dbaf7ed9",
   "metadata": {},
   "outputs": [],
   "source": [
    "# Dense Layer 2\n",
    "\n",
    "conv = Dense(128, activation='relu')(conv)\n",
    "conv = Dropout(0.3)(conv)"
   ]
  },
  {
   "cell_type": "code",
   "execution_count": 367,
   "id": "078d2bf5-2cb2-42d3-97de-21710b7fb3ef",
   "metadata": {},
   "outputs": [],
   "source": [
    "outputs = Dense(len(labels), activation='softmax')(conv)"
   ]
  },
  {
   "cell_type": "code",
   "execution_count": 368,
   "id": "5d26f1a4-7c08-4da7-8121-7d32662bc39a",
   "metadata": {},
   "outputs": [
    {
     "name": "stdout",
     "output_type": "stream",
     "text": [
      "Model: \"model\"\n",
      "_________________________________________________________________\n",
      " Layer (type)                Output Shape              Param #   \n",
      "=================================================================\n",
      " input_1 (InputLayer)        [(None, 8000, 1)]         0         \n",
      "                                                                 \n",
      " conv1d (Conv1D)             (None, 7988, 8)           112       \n",
      "                                                                 \n",
      " max_pooling1d (MaxPooling1  (None, 2662, 8)           0         \n",
      " D)                                                              \n",
      "                                                                 \n",
      " dropout (Dropout)           (None, 2662, 8)           0         \n",
      "                                                                 \n",
      " conv1d_1 (Conv1D)           (None, 2652, 16)          1424      \n",
      "                                                                 \n",
      " max_pooling1d_1 (MaxPoolin  (None, 884, 16)           0         \n",
      " g1D)                                                            \n",
      "                                                                 \n",
      " dropout_1 (Dropout)         (None, 884, 16)           0         \n",
      "                                                                 \n",
      " conv1d_2 (Conv1D)           (None, 876, 32)           4640      \n",
      "                                                                 \n",
      " max_pooling1d_2 (MaxPoolin  (None, 292, 32)           0         \n",
      " g1D)                                                            \n",
      "                                                                 \n",
      " dropout_2 (Dropout)         (None, 292, 32)           0         \n",
      "                                                                 \n",
      " conv1d_3 (Conv1D)           (None, 286, 64)           14400     \n",
      "                                                                 \n",
      " max_pooling1d_3 (MaxPoolin  (None, 95, 64)            0         \n",
      " g1D)                                                            \n",
      "                                                                 \n",
      " dropout_3 (Dropout)         (None, 95, 64)            0         \n",
      "                                                                 \n",
      " flatten (Flatten)           (None, 6080)              0         \n",
      "                                                                 \n",
      " dense (Dense)               (None, 256)               1556736   \n",
      "                                                                 \n",
      " dropout_4 (Dropout)         (None, 256)               0         \n",
      "                                                                 \n",
      " dense_1 (Dense)             (None, 128)               32896     \n",
      "                                                                 \n",
      " dropout_5 (Dropout)         (None, 128)               0         \n",
      "                                                                 \n",
      " dense_2 (Dense)             (None, 1)                 129       \n",
      "                                                                 \n",
      "=================================================================\n",
      "Total params: 1610337 (6.14 MB)\n",
      "Trainable params: 1610337 (6.14 MB)\n",
      "Non-trainable params: 0 (0.00 Byte)\n",
      "_________________________________________________________________\n"
     ]
    }
   ],
   "source": [
    "model = Model(inputs, outputs)\n",
    "model.summary()"
   ]
  },
  {
   "cell_type": "code",
   "execution_count": 369,
   "id": "3306f34a-56f9-493b-9408-a7eaa08d03e5",
   "metadata": {},
   "outputs": [],
   "source": [
    "# Define the loss function to be categorical cross-entropy since it is a multi-classification problem:\n",
    "model.compile(loss='categorical_crossentropy', optimizer='adam', metrics=['accuracy'])"
   ]
  },
  {
   "cell_type": "code",
   "execution_count": 370,
   "id": "68adecd0-0c6c-435e-806a-82186b02a200",
   "metadata": {},
   "outputs": [],
   "source": [
    "# Early stopping and model checkpoints are the callbacks to stop training the neural network at the right time and to save the best model after every epoch:\n",
    "\n",
    "es = EarlyStopping(monitor='val_loss', mode='min', verbose=1, patience=10, min_delta=0.0001)\n",
    "mc = ModelCheckpoint('best_model.hdf5', monitor='val_acc', verbose=1, save_best_only=True, mode='max')"
   ]
  },
  {
   "cell_type": "code",
   "execution_count": 371,
   "id": "e96890ec-6f95-4b42-ae33-867d95cf3651",
   "metadata": {},
   "outputs": [
    {
     "name": "stdout",
     "output_type": "stream",
     "text": [
      "Epoch 1/5\n"
     ]
    },
    {
     "name": "stderr",
     "output_type": "stream",
     "text": [
      "/home/sushank/.local/lib/python3.8/site-packages/tensorflow/python/util/dispatch.py:1176: SyntaxWarning: In loss categorical_crossentropy, expected y_pred.shape to be (batch_size, num_classes) with num_classes > 1. Received: y_pred.shape=(None, 1). Consider using 'binary_crossentropy' if you only have 2 classes.\n",
      "  return dispatch_target(*args, **kwargs)\n"
     ]
    },
    {
     "name": "stdout",
     "output_type": "stream",
     "text": [
      "1/1 [==============================] - 1s 1s/step - loss: 0.0000e+00 - accuracy: 1.0000\n",
      "Epoch 2/5\n",
      "1/1 [==============================] - 0s 51ms/step - loss: 0.0000e+00 - accuracy: 1.0000\n",
      "Epoch 3/5\n",
      "1/1 [==============================] - 0s 58ms/step - loss: 0.0000e+00 - accuracy: 1.0000\n",
      "Epoch 4/5\n",
      "1/1 [==============================] - 0s 60ms/step - loss: 0.0000e+00 - accuracy: 1.0000\n",
      "Epoch 5/5\n",
      "1/1 [==============================] - 0s 57ms/step - loss: 0.0000e+00 - accuracy: 1.0000\n"
     ]
    }
   ],
   "source": [
    "# Let us train the model on a batch size of 32 and evaluate the performance on the holdout set:\n",
    "\n",
    "history = model.fit(x_tr, y_tr, epochs=100, callbacks=[es, mc], batch_size=32, validation_data=(x_val, y_val))\n",
    "# history = model.fit(x_tr, y_tr, epochs=5)"
   ]
  },
  {
   "cell_type": "code",
   "execution_count": 372,
   "id": "814d58c2-d1f2-4f85-bc4f-146dbb779565",
   "metadata": {},
   "outputs": [],
   "source": [
    "# Diagnostic plot\n",
    "\n",
    "# Leaning on visualization again to understand the performance of the model over a period of time\n",
    "\n",
    "from matplotlib import pyplot"
   ]
  },
  {
   "cell_type": "code",
   "execution_count": 373,
   "id": "4482d480-8378-41f5-acc9-e75d2a7266e7",
   "metadata": {},
   "outputs": [
    {
     "data": {
      "image/png": "[encoded data removed]",
      "text/plain": [
       "<Figure size 640x480 with 1 Axes>"
      ]
     },
     "metadata": {},
     "output_type": "display_data"
    }
   ],
   "source": [
    "pyplot.plot(history.history['loss'], label='train')\n",
    "pyplot.plot(history.history['val_loss'], label='test')\n",
    "pyplot.legend()\n",
    "pyplot.show()"
   ]
  },
  {
   "cell_type": "code",
   "execution_count": 374,
   "id": "9d7f0fba-40c1-41e3-8a8a-b327fec6c4b3",
   "metadata": {},
   "outputs": [],
   "source": [
    "model.save('./model/speech_recognition.keras')"
   ]
  },
  {
   "cell_type": "code",
   "execution_count": 375,
   "id": "28436ba0-ffa9-4ce0-8f20-ac3428d80be3",
   "metadata": {},
   "outputs": [],
   "source": [
    "# Loading the best model\n",
    "\n",
    "from keras.models import load_model\n",
    "model= load_model('./model/speech_recognition.keras')"
   ]
  },
  {
   "cell_type": "code",
   "execution_count": 376,
   "id": "8e62daa0-a671-461b-9428-55be86130bd2",
   "metadata": {},
   "outputs": [],
   "source": [
    "def predict(audio):\n",
    "    prob=model.predict(audio.reshape(1,8000,1))\n",
    "    index=np.argmax(prob[0])\n",
    "    return classes[index]"
   ]
  },
  {
   "cell_type": "code",
   "execution_count": null,
   "id": "394f29fa-7ffe-47c3-b46c-38cd7cf7320f",
   "metadata": {},
   "outputs": [],
   "source": []
  },
  {
   "cell_type": "code",
   "execution_count": 380,
   "id": "4232c50b-5904-416f-99d1-945527b1faa9",
   "metadata": {},
   "outputs": [
    {
     "name": "stdout",
     "output_type": "stream",
     "text": [
      "Original Sample Rate: 16000, Resampled Sample Rate: 8000\n",
      "Original Samples Length: 8000, Resampled Samples Length: 8000\n"
     ]
    }
   ],
   "source": [
    "os.listdir('tensorflow-speech-recognition-challenge/train/audio/new')\n",
    "filepath='tensorflow-speech-recognition-challenge/train/audio/new'\n",
    "\n",
    "target_sr=8000\n",
    "#reading the voice commands\n",
    "samples, sample_rate = librosa.load(filepath + '/' + 'you-can-do-it.wav', sr=16000)\n",
    "\n",
    "samples = librosa.resample(samples, orig_sr=sample_rate, target_sr=target_sr)\n",
    "\n",
    "# Check the length of resampled audio\n",
    "if len(samples) < target_sr:\n",
    "    # Pad with zeros if shorter than target_length\n",
    "    samples = np.pad(samples, (0, target_sr - len(samples)), 'constant')\n",
    "elif len(samples) > target_sr:\n",
    "    # Truncate if longer than target_length\n",
    "    samples = samples[:target_sr]\n",
    "            \n",
    "ipd.Audio(samples,rate=8000)  \n",
    "\n",
    "\n",
    "print(f\"Original Sample Rate: {sample_rate}, Resampled Sample Rate: {target_sr}\")\n",
    "print(f\"Original Samples Length: {len(samples)}, Resampled Samples Length: {len(samples)}\")\n",
    "\n",
    "# predict(samples)"
   ]
  },
  {
   "cell_type": "code",
   "execution_count": null,
   "id": "6e804297-40a2-4a3a-8fa4-77f6a6fbceb3",
   "metadata": {},
   "outputs": [],
   "source": []
  }
 ],
 "metadata": {
  "kernelspec": {
   "display_name": "Python 3 (ipykernel)",
   "language": "python",
   "name": "python3"
  },
  "language_info": {
   "codemirror_mode": {
    "name": "ipython",
    "version": 3
   },
   "file_extension": ".py",
   "mimetype": "text/x-python",
   "name": "python",
   "nbconvert_exporter": "python",
   "pygments_lexer": "ipython3",
   "version": "3.8.10"
  }
 },
 "nbformat": 4,
 "nbformat_minor": 5
}
